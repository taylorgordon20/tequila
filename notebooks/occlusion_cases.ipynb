{
 "cells": [
  {
   "cell_type": "code",
   "execution_count": null,
   "metadata": {},
   "outputs": [],
   "source": [
    "import numpy as np\n",
    "import matplotlib.pyplot as plt"
   ]
  },
  {
   "cell_type": "code",
   "execution_count": null,
   "metadata": {},
   "outputs": [],
   "source": [
    "def calculate_ambient_occlusion_count(bits):\n",
    "    ret = 0\n",
    "    for x in [0, 1]:\n",
    "        for y in [0, 1]:\n",
    "            for z in [0, 1]:\n",
    "                hits = set()\n",
    "                stack = [(x, y, z)]\n",
    "                while stack:\n",
    "                    index = lambda x, y, z : (x % 2) + 2 * (y % 2) + 4 * (z % 2)\n",
    "                    occluded = lambda x, y, z: bits[index(x, y, z)] != 0\n",
    "                    x, y, z = stack.pop()\n",
    "                    if not occluded(x, y, z):\n",
    "                        hits.add(index(x, y, z))\n",
    "                        if index(x + 1, y, z) not in hits:\n",
    "                            stack.append((x + 1, y, z))\n",
    "                        if index(x, y + 1, z) not in hits:\n",
    "                            stack.append((x, y + 1, z))\n",
    "                        if index(x, y , z + 1) not in hits:\n",
    "                            stack.append((x, y, z + 1))\n",
    "                ret = max(len(hits), ret) \n",
    "    return ret"
   ]
  },
  {
   "cell_type": "code",
   "execution_count": null,
   "metadata": {},
   "outputs": [],
   "source": [
    "%%time\n",
    "\n",
    "for i in range(256):\n",
    "    bits = [int(a) for a in bin(256 + i)[3:]]\n",
    "    occlusion = calculate_ambient_occlusion_count(bits)\n",
    "    print(f\"i => {bits} => {occlusion}\")"
   ]
  }
 ],
 "metadata": {
  "kernelspec": {
   "display_name": "Python 3",
   "language": "python",
   "name": "python3"
  },
  "language_info": {
   "codemirror_mode": {
    "name": "ipython",
    "version": 3
   },
   "file_extension": ".py",
   "mimetype": "text/x-python",
   "name": "python",
   "nbconvert_exporter": "python",
   "pygments_lexer": "ipython3",
   "version": "3.6.7"
  }
 },
 "nbformat": 4,
 "nbformat_minor": 2
}
