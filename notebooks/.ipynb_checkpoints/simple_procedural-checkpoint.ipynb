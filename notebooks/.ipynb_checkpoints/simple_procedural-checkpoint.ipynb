{
 "cells": [
  {
   "cell_type": "code",
   "execution_count": null,
   "metadata": {},
   "outputs": [],
   "source": [
    "import sys; sys.path.append(\"../bazel-bin/src/py\")"
   ]
  },
  {
   "cell_type": "code",
   "execution_count": null,
   "metadata": {},
   "outputs": [],
   "source": [
    "import imageio\n",
    "import json\n",
    "import matplotlib.pyplot as plt\n",
    "import numpy as np\n",
    "import os\n",
    "import random\n",
    "import zlib\n",
    "import zstd\n",
    "from scipy.spatial import Voronoi\n",
    "from tequila import data, spatial, voxels"
   ]
  },
  {
   "cell_type": "code",
   "execution_count": null,
   "metadata": {},
   "outputs": [],
   "source": [
    "HEIGHT_MAP_SIZE = 512"
   ]
  },
  {
   "cell_type": "code",
   "execution_count": null,
   "metadata": {},
   "outputs": [],
   "source": [
    "def random_nums(seed):\n",
    "    np.random.seed(seed)\n",
    "    p = np.arange(256, dtype=int)\n",
    "    np.random.shuffle(p)\n",
    "    return np.stack([p, p]).flatten()\n",
    "\n",
    "P = random_nums(seed=123)"
   ]
  },
  {
   "cell_type": "code",
   "execution_count": null,
   "metadata": {},
   "outputs": [],
   "source": [
    "def lerp(a,b,x):\n",
    "    \"linear interpolation\"\n",
    "    return a + x * (b-a)\n",
    "\n",
    "def fade(t):\n",
    "    \"6t^5 - 15t^4 + 10t^3\"\n",
    "    return 6 * t**5 - 15 * t**4 + 10 * t**3\n",
    "\n",
    "def gradient(h, x, y):\n",
    "    \"grad converts h to the right gradient vector and return the dot product with (x,y)\"\n",
    "    vectors = np.array([[0, 1], [0, -1], [1, 0],[-1, 0]])\n",
    "    g = vectors[h % 4]\n",
    "    return g[:,:,0] * x + g[:,:,1] * y\n",
    "\n",
    "def perlin(x, y):\n",
    "    xi = x.astype(int)\n",
    "    yi = y.astype(int) \n",
    "    xf = x - xi\n",
    "    yf = y - yi\n",
    "\n",
    "    # Make sure that noise function is smooth (i.e. C^3 smooth)\n",
    "    u = fade(xf)\n",
    "    v = fade(yf)\n",
    "    \n",
    "    # Compute the noise at each of the four vertices.\n",
    "    n00 = gradient(P[P[xi] + yi], xf, yf)\n",
    "    n01 = gradient(P[P[xi] + yi + 1], xf, yf - 1)\n",
    "    n11 = gradient(P[P[xi + 1] + yi + 1], xf - 1, yf - 1)\n",
    "    n10 = gradient(P[P[xi + 1] + yi], xf - 1, yf)\n",
    "    \n",
    "    # Interpolate noise along both x edges.\n",
    "    x1 = lerp(n00, n10, u)\n",
    "    x2 = lerp(n01, n11, u)\n",
    "    \n",
    "    return lerp(x1, x2, v)"
   ]
  },
  {
   "cell_type": "code",
   "execution_count": null,
   "metadata": {},
   "outputs": [],
   "source": [
    "lin = np.linspace(0, 5, HEIGHT_MAP_SIZE, endpoint = False)\n",
    "x, y = np.meshgrid(lin, lin)\n",
    "\n",
    "octaves = {\n",
    "    1: 0.4,\n",
    "    2: 0.2,\n",
    "    3: 0.2,\n",
    "    4: 0.1,\n",
    "    5: 0.05,    \n",
    "}\n",
    "\n",
    "noise_map = sum([w * perlin(i * x, i * y) for i, w in octaves.items()])\n",
    "plt.imshow(noise_map)"
   ]
  },
  {
   "cell_type": "code",
   "execution_count": null,
   "metadata": {},
   "outputs": [],
   "source": [
    "# Generate the actual height map.\n",
    "min_noise = np.min(noise_map)\n",
    "max_noise = np.max(noise_map)\n",
    "\n",
    "min_height = 20\n",
    "max_height = 50\n",
    "\n",
    "noise_map[:,:] = (noise_map[:,:] - min_noise) / (max_noise - min_noise)\n",
    "height_map = ((max_height - min_height) * noise_map[:,:] + min_height).astype(int)"
   ]
  },
  {
   "cell_type": "code",
   "execution_count": null,
   "metadata": {},
   "outputs": [],
   "source": [
    "h05 = np.quantile(height_map, 0.05)\n",
    "h10 = np.quantile(height_map, 0.1)\n",
    "h50 = np.quantile(height_map, 0.5)\n",
    "h90 = np.quantile(height_map, 0.9)\n",
    "print(h05, h10, h50, h90)"
   ]
  },
  {
   "cell_type": "code",
   "execution_count": null,
   "metadata": {},
   "outputs": [],
   "source": [
    "%%time\n",
    "\n",
    "# Build a 3D-grid of voxel arrays from the heigh map\n",
    "VOXEL_ARRAY_SIZE = 64\n",
    "\n",
    "GRASS = 2\n",
    "DIRT = 3\n",
    "ROCK = 4\n",
    "MUD = 6\n",
    "\n",
    "def get_voxel_style(x, y, z, height):\n",
    "    height_fuzz1 = int(0.1 * random.random() * height)\n",
    "    height_fuzz2 = int(0.2 * random.random() * height)\n",
    "    if y <= h05 + height_fuzz1:\n",
    "        return ROCK\n",
    "    elif y <= h10 + height_fuzz2:\n",
    "        return MUD\n",
    "    elif y == height - 1:\n",
    "        return GRASS\n",
    "    else:\n",
    "        return DIRT\n",
    "\n",
    "def build_voxel_array(start_x, start_y, start_z):\n",
    "    va = voxels.VoxelArray()\n",
    "    va.translate(start_x, start_y, start_z)\n",
    "    for z in range(start_z, start_z + VOXEL_ARRAY_SIZE):\n",
    "        for x in range(start_x, start_x + VOXEL_ARRAY_SIZE):\n",
    "            height = height_map[x,z]\n",
    "            for y in range(start_y, height):\n",
    "                style = get_voxel_style(x, y, z, height)\n",
    "                va.set(x - start_x, y - start_y, z - start_z, style)\n",
    "    return va\n",
    "\n",
    "\n",
    "grid_size = HEIGHT_MAP_SIZE // VOXEL_ARRAY_SIZE\n",
    "voxel_arrays = {}\n",
    "for iz in range(grid_size):\n",
    "    for iy in range(grid_size):\n",
    "        for ix in range(grid_size):\n",
    "            print(f\"Building array: {(ix, iy, iz)}...\")\n",
    "            voxel_arrays[(ix, iy, iz)] = build_voxel_array(\n",
    "                ix * VOXEL_ARRAY_SIZE,\n",
    "                iy * VOXEL_ARRAY_SIZE,\n",
    "                iz * VOXEL_ARRAY_SIZE,\n",
    "            )\n",
    "            "
   ]
  },
  {
   "cell_type": "code",
   "execution_count": null,
   "metadata": {},
   "outputs": [],
   "source": [
    "%%time\n",
    "\n",
    "# Create a new world DB.\n",
    "table = data.Table(\"octree_world\")"
   ]
  },
  {
   "cell_type": "code",
   "execution_count": null,
   "metadata": {},
   "outputs": [],
   "source": [
    "%%time\n",
    "\n",
    "# Dump all of the voxel arrays into the DB.\n",
    "for (ix, iy, iz), va in voxel_arrays.items():\n",
    "    index = ix + iy * grid_size + iz * grid_size * grid_size\n",
    "    table.set(f\"voxels/{index}\", voxels.dumps(va))"
   ]
  },
  {
   "cell_type": "code",
   "execution_count": null,
   "metadata": {},
   "outputs": [],
   "source": [
    "%%time\n",
    "\n",
    "# Create an octree for the world so that we can selectively render based on a camera.\n",
    "OCTREE_LEAF_SIZE = 32\n",
    "octree = spatial.Octree(\n",
    "    OCTREE_LEAF_SIZE,\n",
    "    HEIGHT_MAP_SIZE // OCTREE_LEAF_SIZE,\n",
    ")\n",
    "\n",
    "for cell in range(len(octree)):\n",
    "    table.set(f\"cell_config/{cell}/voxels\", json.dumps({\"voxel_keys\": []}))\n",
    "    \n",
    "for (ix, iy, iz), va in voxel_arrays.items():\n",
    "    va_index = ix + iy * grid_size + iz * grid_size * grid_size\n",
    "    va_key = f\"voxels/{va_index}\"\n",
    "    cells = octree.intersect_box((\n",
    "        ix * VOXEL_ARRAY_SIZE,\n",
    "        iy * VOXEL_ARRAY_SIZE,\n",
    "        iz * VOXEL_ARRAY_SIZE,\n",
    "        (ix + 1) * VOXEL_ARRAY_SIZE,\n",
    "        (iy + 1) * VOXEL_ARRAY_SIZE,\n",
    "        (iz + 1) * VOXEL_ARRAY_SIZE,\n",
    "    ))\n",
    "    for cell in cells:\n",
    "        table_key = f\"cell_config/{cell}/voxels\" \n",
    "        voxel_config = json.loads(table.get(table_key))\n",
    "        voxel_config[\"voxel_keys\"].append(va_key)\n",
    "        table.set(table_key, json.dumps(voxel_config))\n",
    "        \n",
    "table.set(\"octree_config\", json.dumps({\n",
    "    \"leaf_size\": OCTREE_LEAF_SIZE,\n",
    "    \"grid_size\": HEIGHT_MAP_SIZE // OCTREE_LEAF_SIZE,\n",
    "}))"
   ]
  },
  {
   "cell_type": "code",
   "execution_count": null,
   "metadata": {},
   "outputs": [],
   "source": [
    "table.get(\"octree_config\")"
   ]
  }
 ],
 "metadata": {
  "kernelspec": {
   "display_name": "Python 3",
   "language": "python",
   "name": "python3"
  },
  "language_info": {
   "codemirror_mode": {
    "name": "ipython",
    "version": 3
   },
   "file_extension": ".py",
   "mimetype": "text/x-python",
   "name": "python",
   "nbconvert_exporter": "python",
   "pygments_lexer": "ipython3",
   "version": "3.6.7"
  }
 },
 "nbformat": 4,
 "nbformat_minor": 2
}
