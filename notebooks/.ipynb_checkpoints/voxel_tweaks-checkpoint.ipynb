{
 "cells": [
  {
   "cell_type": "code",
   "execution_count": null,
   "metadata": {},
   "outputs": [],
   "source": [
    "import sys; sys.path.append(\"../bazel-bin/src/py\")"
   ]
  },
  {
   "cell_type": "code",
   "execution_count": null,
   "metadata": {},
   "outputs": [],
   "source": [
    "import json\n",
    "import numpy as np\n",
    "from tequila import data, spatial, voxels"
   ]
  },
  {
   "cell_type": "code",
   "execution_count": null,
   "metadata": {},
   "outputs": [],
   "source": [
    "table = data.Table(\"octree_world\")"
   ]
  },
  {
   "cell_type": "code",
   "execution_count": null,
   "metadata": {},
   "outputs": [],
   "source": [
    "HEIGHT_MAP_SIZE = 512\n",
    "VOXEL_ARRAY_SIZE = 64\n",
    "GRID_SIZE = HEIGHT_MAP_SIZE // VOXEL_ARRAY_SIZE\n",
    "\n",
    "voxel_indices = []\n",
    "for z in range(GRID_SIZE):\n",
    "    for y in range(GRID_SIZE):\n",
    "        for x in range(GRID_SIZE):\n",
    "            voxel_indices.append((x, y, z))"
   ]
  },
  {
   "cell_type": "code",
   "execution_count": null,
   "metadata": {},
   "outputs": [],
   "source": [
    "for vx, vy, vz in voxel_indices:\n",
    "    index = vx + vy * GRID_SIZE + vz * GRID_SIZE * GRID_SIZE\n",
    "    va = voxels.loads(table.get(f\"voxels/{index}\"))\n",
    "\n",
    "    count = 0\n",
    "    start_height = VOXEL_ARRAY_SIZE * vy\n",
    "    for z in range(VOXEL_ARRAY_SIZE):\n",
    "        for y in range(VOXEL_ARRAY_SIZE):\n",
    "            if start_height + y > 45:\n",
    "                break\n",
    "            for x in range(VOXEL_ARRAY_SIZE):\n",
    "                if va.get(x, y, z) == 6:\n",
    "                    va.set(x, y, z, 3)\n",
    "                    count += 1\n",
    "    print((vx, vy, vz), start_height, count)\n",
    "    \n",
    "    table.set(f\"voxels/{index}\", voxels.dumps(va))\n"
   ]
  }
 ],
 "metadata": {
  "kernelspec": {
   "display_name": "Python 3",
   "language": "python",
   "name": "python3"
  },
  "language_info": {
   "codemirror_mode": {
    "name": "ipython",
    "version": 3
   },
   "file_extension": ".py",
   "mimetype": "text/x-python",
   "name": "python",
   "nbconvert_exporter": "python",
   "pygments_lexer": "ipython3",
   "version": "3.6.7"
  }
 },
 "nbformat": 4,
 "nbformat_minor": 2
}
