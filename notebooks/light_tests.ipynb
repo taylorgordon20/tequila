{
 "cells": [
  {
   "cell_type": "code",
   "execution_count": null,
   "metadata": {},
   "outputs": [],
   "source": [
    "import math\n",
    "import matplotlib.pyplot as plt\n",
    "import numpy as np"
   ]
  },
  {
   "cell_type": "code",
   "execution_count": null,
   "metadata": {},
   "outputs": [],
   "source": [
    "SIZE = 32"
   ]
  },
  {
   "cell_type": "code",
   "execution_count": null,
   "metadata": {},
   "outputs": [],
   "source": [
    "occlusion_map = np.random.choice(a=[False, True], size=(SIZE, SIZE), p=[0.8, 0.2])"
   ]
  },
  {
   "cell_type": "code",
   "execution_count": null,
   "metadata": {},
   "outputs": [],
   "source": [
    "plt.imshow(occlusion_map)"
   ]
  },
  {
   "cell_type": "code",
   "execution_count": null,
   "metadata": {},
   "outputs": [],
   "source": [
    "light_map = np.zeros(shape=(SIZE, SIZE), dtype=bool)\n",
    "\n",
    "lights = []\n",
    "num_lights = 8\n",
    "while num_lights:\n",
    "    row, col = np.random.randint(low=0, high=SIZE, size=2)\n",
    "    if occlusion_map[row, col]:\n",
    "        continue\n",
    "    light_map[row, col] = True\n",
    "    lights.append((row, col))\n",
    "    num_lights -= 1"
   ]
  },
  {
   "cell_type": "code",
   "execution_count": null,
   "metadata": {},
   "outputs": [],
   "source": [
    "plt.imshow(light_map)"
   ]
  },
  {
   "cell_type": "code",
   "execution_count": null,
   "metadata": {},
   "outputs": [],
   "source": [
    "%%time\n",
    "\n",
    "RASTER_SIZE = 8\n",
    "ATTENUATION = 1\n",
    "TRUNCATION = 1 / 255.0\n",
    "label_map = np.zeros(shape=(RASTER_SIZE * SIZE, RASTER_SIZE * SIZE), dtype=np.float)\n",
    "\n",
    "def ray_occlusion_test(start, end):\n",
    "    sx, sy = start\n",
    "    ex, ey = end\n",
    "    steep = abs(ey - sy) > abs(ex - sx)\n",
    "    if steep:\n",
    "        sx, sy = sy, sx\n",
    "        ex, ey = ey, ex\n",
    "    if sx > ex:\n",
    "        sx, ex = ex, sx\n",
    "        sy, ey = ey, sy\n",
    "    dx = ex - sx\n",
    "    dy = ey - sy\n",
    "    df = dy / dx\n",
    "    if dx == 0.0:\n",
    "        return True\n",
    "    for x in [sx, ex] + [ix + 0.5 for ix in range(int(sx + 1), int(ex))]:\n",
    "        ix = int(x)\n",
    "        iy = int(sy + df * (x - sx))\n",
    "        if ix >= occlusion_map.shape[0] or iy >= occlusion_map.shape[1]:\n",
    "            continue\n",
    "        if not steep and occlusion_map[iy, ix]:\n",
    "            return False\n",
    "        elif steep and occlusion_map[ix, iy]:\n",
    "            return False\n",
    "        if ix > sx:\n",
    "            iy = int(sy + df * (ix - sx))\n",
    "            if not steep and occlusion_map[iy, ix]:\n",
    "                return False\n",
    "            elif steep and occlusion_map[ix, iy]:\n",
    "                return False\n",
    "        if ix + 1 < ex:\n",
    "            iy = int(sy + df * (ix + 1 - sx))\n",
    "            if not steep and occlusion_map[iy, ix]:\n",
    "                return False\n",
    "            elif steep and occlusion_map[ix, iy]:\n",
    "                return False\n",
    "    return True\n",
    "\n",
    "# Precompute labels.\n",
    "for row in range(label_map.shape[0]):\n",
    "    for col in range(label_map.shape[1]):\n",
    "        x = col // RASTER_SIZE\n",
    "        y = row // RASTER_SIZE\n",
    "        s = (0.5 + (col % RASTER_SIZE)) / RASTER_SIZE\n",
    "        t = (0.5 + (row % RASTER_SIZE)) / RASTER_SIZE\n",
    "        for light in lights:\n",
    "            eps = 0.01\n",
    "            lx, ly = light[1] + 0.5, light[0] + 0.5\n",
    "            if not ray_occlusion_test((x + s, y + t), (lx, ly)):\n",
    "                continue\n",
    "            irradiance = ATTENUATION / ((x + s - lx)**2 + (y + t - ly)**2)\n",
    "            if irradiance >= TRUNCATION:\n",
    "              label_map[row, col] = max(label_map[row, col], min(1, label_map[row, col] + irradiance))"
   ]
  },
  {
   "cell_type": "code",
   "execution_count": null,
   "metadata": {},
   "outputs": [],
   "source": [
    "import scipy.ndimage\n",
    "\n",
    "blurred_label_map = scipy.ndimage.filters.gaussian_filter(label_map, sigma = 2.0)\n",
    "plt.imshow(blurred_label_map)"
   ]
  },
  {
   "cell_type": "code",
   "execution_count": null,
   "metadata": {},
   "outputs": [],
   "source": [
    "def make_color_map(pixel_map):\n",
    "    color_map = np.zeros(shape=(RASTER_SIZE * SIZE, RASTER_SIZE * SIZE, 3), dtype=np.uint8)\n",
    "\n",
    "    for row in range(label_map.shape[0]):\n",
    "        for col in range(label_map.shape[1]):\n",
    "            x = col // RASTER_SIZE\n",
    "            y = row // RASTER_SIZE\n",
    "            s = (0.5 + (col % RASTER_SIZE)) / RASTER_SIZE\n",
    "            t = (0.5 + (row % RASTER_SIZE)) / RASTER_SIZE\n",
    "            if occlusion_map[y, x]:\n",
    "                color_map[row, col, 0:3] = [255, 0, 0]\n",
    "            else:\n",
    "                color_map[row, col, 0:3] = (pixel_map[row, col] * 255).astype(np.uint8)\n",
    "\n",
    "\n",
    "    for light in lights:\n",
    "        ly, lx = RASTER_SIZE * light[0], RASTER_SIZE * light[1]\n",
    "        for row in range(ly + 2, ly + RASTER_SIZE - 2):\n",
    "            for col in range(lx + 2, lx + RASTER_SIZE - 2):\n",
    "                color_map[row, col] = [0, 0, 255]\n",
    "                \n",
    "    return color_map                "
   ]
  },
  {
   "cell_type": "code",
   "execution_count": null,
   "metadata": {},
   "outputs": [],
   "source": [
    "fig, ax = plt.subplots(figsize=(10, 10))\n",
    "ax.imshow(make_color_map(blurred_label_map))"
   ]
  },
  {
   "cell_type": "code",
   "execution_count": null,
   "metadata": {},
   "outputs": [],
   "source": [
    "def clamp(val, min, max):\n",
    "    return min(max, max(val, min))\n",
    "\n",
    "def cross_entropy(label, prediction):\n",
    "    return -label * math.log(prediction) - (1 - label) * math.log(1 - prediction)"
   ]
  },
  {
   "cell_type": "code",
   "execution_count": null,
   "metadata": {},
   "outputs": [],
   "source": [
    "EMBEDDING_SIZE = 5\n",
    "radiance_map = np.zeros(shape=(SIZE + 1, SIZE + 1, EMBEDDING_SIZE), dtype=np.float32)"
   ]
  },
  {
   "cell_type": "code",
   "execution_count": null,
   "metadata": {},
   "outputs": [],
   "source": [
    "%%time\n",
    "\n",
    "ALPHA = 0.1\n",
    "ITERATIONS = 100000 \n",
    "A = np.random.random(size=1 + 4 * EMBEDDING_SIZE) / (1 + 4 * EMBEDDING_SIZE)**0.5\n",
    "for i in range(ITERATIONS):\n",
    "    # Generate a random training example.\n",
    "    x, y = np.random.randint(low=0, high=SIZE, size=2)\n",
    "    s, t = (0.5 + np.random.randint(low=0, high=RASTER_SIZE, size=2)) / float(RASTER_SIZE)\n",
    "    col, row = int((x + s) * RASTER_SIZE), int((y + t) * RASTER_SIZE)\n",
    "    label = blurred_label_map[row, col]\n",
    "    \n",
    "    # Predict the pixel color using our rasterization model.\n",
    "    E1 = radiance_map[y, x, :]\n",
    "    E2 = radiance_map[y + 1, x, :]\n",
    "    E3 = radiance_map[y, x + 1, :]\n",
    "    E4 = radiance_map[y + 1, x + 1, :]\n",
    "    A1 = A[1 : EMBEDDING_SIZE + 1]\n",
    "    A2 = A[EMBEDDING_SIZE + 1 : 2 * EMBEDDING_SIZE + 1]\n",
    "    A3 = A[2 * EMBEDDING_SIZE + 1 : 3 * EMBEDDING_SIZE + 1]\n",
    "    A4 = A[3 * EMBEDDING_SIZE + 1 : 4 * EMBEDDING_SIZE + 1]\n",
    "    r = A[0]\n",
    "    r += (1 - s) * (1 - t) * A1.dot(E1)\n",
    "    r += (1 - s) * t * A2.dot(E2)\n",
    "    r += s * (1 - t) * A3.dot(E3)\n",
    "    r += s * t * A4.dot(E4)\n",
    "    prediction = 1.0 / (1 + math.exp(-r))\n",
    "    \n",
    "    # Backward propagation.\n",
    "    error = cross_entropy(label, prediction)\n",
    "    scale = ALPHA * (label * (1 - prediction) - (1 - label) * prediction)\n",
    "    \n",
    "    A0_grad = 1\n",
    "    A1_grad = (1 - s) * (1 - t) * E1\n",
    "    A2_grad = (1 - s) * t * E2\n",
    "    A3_grad = s * (1 - t) * E3\n",
    "    A4_grad = s * t * E4\n",
    "    E1_grad = (1 - s) * (1 - t) * A1\n",
    "    E2_grad = (1 - s) * t * A2\n",
    "    E3_grad = s * (1 - t) * A3\n",
    "    E4_grad = s * t * A4\n",
    "    \n",
    "    A[0] += scale * A0_grad\n",
    "    A[1 : EMBEDDING_SIZE + 1] += scale * A1_grad\n",
    "    A[EMBEDDING_SIZE + 1 : 2 * EMBEDDING_SIZE + 1] += scale * A2_grad\n",
    "    A[2 * EMBEDDING_SIZE + 1 : 3 * EMBEDDING_SIZE + 1] += scale * A3_grad\n",
    "    A[3 * EMBEDDING_SIZE + 1 : 4 * EMBEDDING_SIZE + 1] += scale * A4_grad\n",
    "    radiance_map[y, x, :] += scale * E1_grad\n",
    "    radiance_map[y + 1, x, :] += scale * E2_grad\n",
    "    radiance_map[y, x + 1, :] += scale * E3_grad\n",
    "    radiance_map[y + 1, x + 1, :] += scale * E4_grad"
   ]
  },
  {
   "cell_type": "code",
   "execution_count": null,
   "metadata": {},
   "outputs": [],
   "source": [
    "train_map = np.zeros(shape=(RASTER_SIZE * SIZE, RASTER_SIZE * SIZE), dtype=np.float)\n",
    "\n",
    "for row in range(train_map.shape[0]):\n",
    "    for col in range(train_map.shape[1]):\n",
    "        x = col // RASTER_SIZE\n",
    "        y = row // RASTER_SIZE\n",
    "        s = (0.5 + (col % RASTER_SIZE)) / RASTER_SIZE\n",
    "        t = (0.5 + (row % RASTER_SIZE)) / RASTER_SIZE\n",
    "\n",
    "        # Predict the pixel color using our rasterization model.\n",
    "        E1 = radiance_map[y, x, :]\n",
    "        E2 = radiance_map[y + 1, x, :]\n",
    "        E3 = radiance_map[y, x + 1, :]\n",
    "        E4 = radiance_map[y + 1, x + 1, :]\n",
    "        A1 = A[1 : EMBEDDING_SIZE + 1]\n",
    "        A2 = A[EMBEDDING_SIZE + 1 : 2 * EMBEDDING_SIZE + 1]\n",
    "        A3 = A[2 * EMBEDDING_SIZE + 1 : 3 * EMBEDDING_SIZE + 1]\n",
    "        A4 = A[3 * EMBEDDING_SIZE + 1 : 4 * EMBEDDING_SIZE + 1]\n",
    "        r = A[0]\n",
    "        r += (1 - s) * (1 - t) * A1.dot(E1)\n",
    "        r += (1 - s) * t * A2.dot(E2)\n",
    "        r += s * (1 - t) * A3.dot(E3)\n",
    "        r += s * t * A4.dot(E4)\n",
    "        train_map[row, col] = 1.0 / (1 + math.exp(-r))"
   ]
  },
  {
   "cell_type": "code",
   "execution_count": null,
   "metadata": {
    "scrolled": false
   },
   "outputs": [],
   "source": [
    "fig, ax = plt.subplots(figsize=(10, 10))\n",
    "ax.imshow(make_color_map(train_map))"
   ]
  },
  {
   "cell_type": "code",
   "execution_count": null,
   "metadata": {},
   "outputs": [],
   "source": [
    "fig, ax = plt.subplots(figsize=(10, 10))\n",
    "ax.imshow(make_color_map(blurred_label_map))"
   ]
  },
  {
   "cell_type": "code",
   "execution_count": null,
   "metadata": {},
   "outputs": [],
   "source": [
    "%%time\n",
    "\n",
    "def decay(start, iteration, rate=0.0001, min=0.0001):\n",
    "    return max(min, start * math.exp(-rate * iteration))\n",
    "\n",
    "ALPHA = 0.1\n",
    "ITERATIONS = 100000\n",
    "FALLBACK_EMBEDDING = np.zeros(shape=(EMBEDDING_SIZE,), dtype=np.float32)\n",
    "B = np.random.random(size=(EMBEDDING_SIZE, 1 + 4 * EMBEDDING_SIZE + 8))\n",
    "B /= len(B.flatten())**0.5\n",
    "\n",
    "errors = []\n",
    "for i in range(ITERATIONS):\n",
    "    # Generate a random training example.\n",
    "    x, y = np.random.randint(low=0, high=SIZE, size=2)\n",
    "    label = radiance_map[y, x]\n",
    "    \n",
    "    # Predict a vertex embedding using the neighboring embeddings and face maps.\n",
    "    E1 = radiance_map[y - 1, x] if y > 0 else FALLBACK_EMBEDDING\n",
    "    E2 = radiance_map[y + 1, x] if y < radiance_map.shape[0] - 1 else FALLBACK_EMBEDDING\n",
    "    E3 = radiance_map[y, x - 1] if x > 0 else FALLBACK_EMBEDDING\n",
    "    E4 = radiance_map[y, x + 1] if x < radiance_map.shape[1] - 1 else FALLBACK_EMBEDDING\n",
    "    O1 = occlusion_map[y - 1, x - 1] if y > 0 and x > 0 else True\n",
    "    O2 = occlusion_map[y, x - 1] if y < occlusion_map.shape[0] and x > 0 else True\n",
    "    O3 = occlusion_map[y - 1, x] if y > 0 and x < occlusion_map.shape[1] else True\n",
    "    O4 = occlusion_map[y, x] if y < occlusion_map.shape[0] and x < occlusion_map.shape[1] else True\n",
    "    L1 = light_map[y - 1, x - 1] if y > 0 and x > 0 else False\n",
    "    L2 = light_map[y, x - 1] if y < light_map.shape[0] and x > 0 else False\n",
    "    L3 = light_map[y - 1, x] if y > 0 and x < light_map.shape[1] else False\n",
    "    L4 = light_map[y, x] if y < light_map.shape[0] and x < light_map.shape[1] else False\n",
    "        \n",
    "    C = np.concatenate((\n",
    "        [1],\n",
    "        E1,\n",
    "        E2,\n",
    "        E3,\n",
    "        E4,\n",
    "        [O1],\n",
    "        [O2],\n",
    "        [O3],\n",
    "        [O4],\n",
    "        [L1],\n",
    "        [L2],\n",
    "        [L3],\n",
    "        [L4],\n",
    "    ))\n",
    "    F = B.dot(C)\n",
    "    \n",
    "    # Measure the current loss.\n",
    "    error = np.linalg.norm(F - label)\n",
    "    errors.append(error)\n",
    "    \n",
    "    # Backward propagation.\n",
    "    scale = decay(ALPHA, i) * (label - F)\n",
    "    B_grad = scale[:, np.newaxis].dot(C[:, np.newaxis].transpose())\n",
    "    B += B_grad"
   ]
  },
  {
   "cell_type": "code",
   "execution_count": null,
   "metadata": {},
   "outputs": [],
   "source": [
    "from scipy.signal import savgol_filter\n",
    "plot_errors = savgol_filter(errors[::], 31, 3)\n",
    "plt.plot(range(len(plot_errors)), plot_errors, marker=\"\")"
   ]
  },
  {
   "cell_type": "code",
   "execution_count": null,
   "metadata": {},
   "outputs": [],
   "source": [
    "B[:,-3:]"
   ]
  },
  {
   "cell_type": "code",
   "execution_count": null,
   "metadata": {},
   "outputs": [],
   "source": [
    "inferred_radiance_map = np.zeros(shape=(SIZE + 1, SIZE + 1, EMBEDDING_SIZE), dtype=np.float32)"
   ]
  },
  {
   "cell_type": "code",
   "execution_count": null,
   "metadata": {},
   "outputs": [],
   "source": [
    "PASSES = 20\n",
    "for _ in range(PASSES):\n",
    "    update_map = np.array(inferred_radiance_map)\n",
    "    for y in range(inferred_radiance_map.shape[0]):\n",
    "        for x in range(inferred_radiance_map.shape[1]):    \n",
    "            # Predict a vertex embedding using the neighboring embeddings and face maps.\n",
    "            E1 = inferred_radiance_map[y - 1, x] if y > 0 else FALLBACK_EMBEDDING\n",
    "            E2 = inferred_radiance_map[y + 1, x] if y < radiance_map.shape[0] - 1 else FALLBACK_EMBEDDING\n",
    "            E3 = inferred_radiance_map[y, x - 1] if x > 0 else FALLBACK_EMBEDDING\n",
    "            E4 = inferred_radiance_map[y, x + 1] if x < radiance_map.shape[1] - 1 else FALLBACK_EMBEDDING\n",
    "            O1 = occlusion_map[y - 1, x - 1] if y > 0 and x > 0 else True\n",
    "            O2 = occlusion_map[y, x - 1] if y < occlusion_map.shape[0] and x > 0 else True\n",
    "            O3 = occlusion_map[y - 1, x] if y > 0 and x < occlusion_map.shape[1] else True\n",
    "            O4 = occlusion_map[y, x] if y < occlusion_map.shape[0] and x < occlusion_map.shape[1] else True\n",
    "            L1 = light_map[y - 1, x - 1] if y > 0 and x > 0 else False\n",
    "            L2 = light_map[y, x - 1] if y < light_map.shape[0] and x > 0 else False\n",
    "            L3 = light_map[y - 1, x] if y > 0 and x < light_map.shape[1] else False\n",
    "            L4 = light_map[y, x] if y < light_map.shape[0] and x < light_map.shape[1] else False\n",
    "            C = np.concatenate((\n",
    "                [1],\n",
    "                E1,\n",
    "                E2,\n",
    "                E3,\n",
    "                E4,\n",
    "                [O1],\n",
    "                [O2],\n",
    "                [O3],\n",
    "                [O4],\n",
    "                [L1],\n",
    "                [L2],\n",
    "                [L3],\n",
    "                [L4],\n",
    "            ))\n",
    "            update_map[y,x] = B.dot(C)\n",
    "    inferred_radiance_map[:,:] = update_map "
   ]
  },
  {
   "cell_type": "code",
   "execution_count": null,
   "metadata": {},
   "outputs": [],
   "source": [
    "propagation_map = np.zeros(shape=(RASTER_SIZE * SIZE, RASTER_SIZE * SIZE), dtype=np.float)"
   ]
  },
  {
   "cell_type": "code",
   "execution_count": null,
   "metadata": {},
   "outputs": [],
   "source": [
    "for row in range(propagation_map.shape[0]):\n",
    "    for col in range(propagation_map.shape[1]):\n",
    "        x = col // RASTER_SIZE\n",
    "        y = row // RASTER_SIZE\n",
    "        s = (0.5 + (col % RASTER_SIZE)) / RASTER_SIZE\n",
    "        t = (0.5 + (row % RASTER_SIZE)) / RASTER_SIZE\n",
    "\n",
    "        # Predict the pixel color using our rasterization model.\n",
    "        E1 = inferred_radiance_map[y, x, :]\n",
    "        E2 = inferred_radiance_map[y + 1, x, :]\n",
    "        E3 = inferred_radiance_map[y, x + 1, :]\n",
    "        E4 = inferred_radiance_map[y + 1, x + 1, :]\n",
    "        A1 = A[1 : EMBEDDING_SIZE + 1]\n",
    "        A2 = A[EMBEDDING_SIZE + 1 : 2 * EMBEDDING_SIZE + 1]\n",
    "        A3 = A[2 * EMBEDDING_SIZE + 1 : 3 * EMBEDDING_SIZE + 1]\n",
    "        A4 = A[3 * EMBEDDING_SIZE + 1 : 4 * EMBEDDING_SIZE + 1]\n",
    "        r = A[0]\n",
    "        r += (1 - s) * (1 - t) * A1.dot(E1)\n",
    "        r += (1 - s) * t * A2.dot(E2)\n",
    "        r += s * (1 - t) * A3.dot(E3)\n",
    "        r += s * t * A4.dot(E4)\n",
    "        propagation_map[row, col] = 1.0 / (1 + math.exp(-r))   "
   ]
  },
  {
   "cell_type": "code",
   "execution_count": null,
   "metadata": {},
   "outputs": [],
   "source": [
    "fig, ax = plt.subplots(figsize=(10, 10))\n",
    "ax.imshow(make_color_map(propagation_map))"
   ]
  },
  {
   "cell_type": "code",
   "execution_count": null,
   "metadata": {},
   "outputs": [],
   "source": [
    "fig, ax = plt.subplots(figsize=(10, 10))\n",
    "ax.imshow(make_color_map(train_map))"
   ]
  }
 ],
 "metadata": {
  "kernelspec": {
   "display_name": "Python 3",
   "language": "python",
   "name": "python3"
  },
  "language_info": {
   "codemirror_mode": {
    "name": "ipython",
    "version": 3
   },
   "file_extension": ".py",
   "mimetype": "text/x-python",
   "name": "python",
   "nbconvert_exporter": "python",
   "pygments_lexer": "ipython3",
   "version": "3.6.7"
  }
 },
 "nbformat": 4,
 "nbformat_minor": 2
}
